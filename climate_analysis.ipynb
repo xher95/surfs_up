{
 "cells": [
  {
   "cell_type": "code",
   "execution_count": 1,
   "metadata": {},
   "outputs": [],
   "source": [
    "%matplotlib inline\n",
    "from matplotlib import style\n",
    "style.use('fivethirtyeight')\n",
    "import matplotlib.pyplot as plt"
   ]
  },
  {
   "cell_type": "code",
   "execution_count": 2,
   "metadata": {},
   "outputs": [],
   "source": [
    "import numpy as np\n",
    "import pandas as pd"
   ]
  },
  {
   "cell_type": "code",
   "execution_count": 3,
   "metadata": {},
   "outputs": [],
   "source": [
    "import datetime as dt"
   ]
  },
  {
   "cell_type": "markdown",
   "metadata": {},
   "source": [
    "# Reflect Tables into SQLAlchemy ORM"
   ]
  },
  {
   "cell_type": "code",
   "execution_count": 4,
   "metadata": {},
   "outputs": [],
   "source": [
    "# Python SQL toolkit and Object Relational Mapper\n",
    "import sqlalchemy\n",
    "from sqlalchemy.ext.automap import automap_base\n",
    "from sqlalchemy.orm import Session\n",
    "from sqlalchemy import create_engine, func"
   ]
  },
  {
   "cell_type": "code",
   "execution_count": 5,
   "metadata": {},
   "outputs": [],
   "source": [
    "engine = create_engine(\"sqlite:///hawaii.sqlite\")"
   ]
  },
  {
   "cell_type": "code",
   "execution_count": 6,
   "metadata": {},
   "outputs": [],
   "source": [
    "# reflect an existing database into a new model\n",
    "Base = automap_base()\n",
    "# reflect the tables\n",
    "Base.prepare(engine, reflect=True)"
   ]
  },
  {
   "cell_type": "code",
   "execution_count": 7,
   "metadata": {},
   "outputs": [
    {
     "data": {
      "text/plain": [
       "['measurement', 'station']"
      ]
     },
     "execution_count": 7,
     "metadata": {},
     "output_type": "execute_result"
    }
   ],
   "source": [
    "# We can view all of the classes that automap found\n",
    "Base.classes.keys()"
   ]
  },
  {
   "cell_type": "code",
   "execution_count": 8,
   "metadata": {},
   "outputs": [],
   "source": [
    "# Save references to each table\n",
    "Measurement = Base.classes.measurement\n",
    "Station = Base.classes.station"
   ]
  },
  {
   "cell_type": "code",
   "execution_count": 9,
   "metadata": {},
   "outputs": [],
   "source": [
    "# Create our session (link) from Python to the DB\n",
    "session = Session(engine)"
   ]
  },
  {
   "cell_type": "markdown",
   "metadata": {},
   "source": [
    "# Exploratory Climate Analysis"
   ]
  },
  {
   "cell_type": "code",
   "execution_count": 18,
   "metadata": {},
   "outputs": [
    {
     "data": {
      "text/plain": [
       "<matplotlib.axes._subplots.AxesSubplot at 0x2135cd0d788>"
      ]
     },
     "execution_count": 18,
     "metadata": {},
     "output_type": "execute_result"
    },
    {
     "data": {
      "image/png": "[encoded data removed]",
      "text/plain": [
       "<Figure size 432x288 with 1 Axes>"
      ]
     },
     "metadata": {},
     "output_type": "display_data"
    }
   ],
   "source": [
    "# Design a query to retrieve the last 12 months of precipitation data and plot the results. \n",
    "#Starting from the last data point in the database. \n",
    "\n",
    "# Calculate the date one year from the last date in data set.\n",
    "prev_year = dt.date(2017, 8, 23) - dt.timedelta(days=365)\n",
    "# Perform a query to retrieve the data and precipitation scores\n",
    "results = []\n",
    "results = session.query(Measurement.date, Measurement.prcp).filter(Measurement.date >= prev_year).all()\n",
    "# Save the query results as a Pandas DataFrame and set the index to the date column\n",
    "df = pd.DataFrame(results, columns=['date', 'precipitation'])\n",
    "df.set_index(df['date'], inplace=True)\n",
    "# Sort the dataframe by date\n",
    "df = df.sort_index()\n",
    "# Use Pandas Plotting with Matplotlib to plot the data\n",
    "df.plot(rot=90)"
   ]
  },
  {
   "cell_type": "code",
   "execution_count": 20,
   "metadata": {},
   "outputs": [
    {
     "data": {
      "text/html": [
       "<div>\n",
       "<style scoped>\n",
       "    .dataframe tbody tr th:only-of-type {\n",
       "        vertical-align: middle;\n",
       "    }\n",
       "\n",
       "    .dataframe tbody tr th {\n",
       "        vertical-align: top;\n",
       "    }\n",
       "\n",
       "    .dataframe thead th {\n",
       "        text-align: right;\n",
       "    }\n",
       "</style>\n",
       "<table border=\"1\" class=\"dataframe\">\n",
       "  <thead>\n",
       "    <tr style=\"text-align: right;\">\n",
       "      <th></th>\n",
       "      <th>precipitation</th>\n",
       "    </tr>\n",
       "  </thead>\n",
       "  <tbody>\n",
       "    <tr>\n",
       "      <th>count</th>\n",
       "      <td>2021.000000</td>\n",
       "    </tr>\n",
       "    <tr>\n",
       "      <th>mean</th>\n",
       "      <td>0.177279</td>\n",
       "    </tr>\n",
       "    <tr>\n",
       "      <th>std</th>\n",
       "      <td>0.461190</td>\n",
       "    </tr>\n",
       "    <tr>\n",
       "      <th>min</th>\n",
       "      <td>0.000000</td>\n",
       "    </tr>\n",
       "    <tr>\n",
       "      <th>25%</th>\n",
       "      <td>0.000000</td>\n",
       "    </tr>\n",
       "    <tr>\n",
       "      <th>50%</th>\n",
       "      <td>0.020000</td>\n",
       "    </tr>\n",
       "    <tr>\n",
       "      <th>75%</th>\n",
       "      <td>0.130000</td>\n",
       "    </tr>\n",
       "    <tr>\n",
       "      <th>max</th>\n",
       "      <td>6.700000</td>\n",
       "    </tr>\n",
       "  </tbody>\n",
       "</table>\n",
       "</div>"
      ],
      "text/plain": [
       "       precipitation\n",
       "count    2021.000000\n",
       "mean        0.177279\n",
       "std         0.461190\n",
       "min         0.000000\n",
       "25%         0.000000\n",
       "50%         0.020000\n",
       "75%         0.130000\n",
       "max         6.700000"
      ]
     },
     "execution_count": 20,
     "metadata": {},
     "output_type": "execute_result"
    }
   ],
   "source": [
    "# Use Pandas to calcualte the summary statistics for the precipitation data\n",
    "df.describe()"
   ]
  },
  {
   "cell_type": "code",
   "execution_count": 21,
   "metadata": {},
   "outputs": [
    {
     "data": {
      "text/plain": [
       "[(9)]"
      ]
     },
     "execution_count": 21,
     "metadata": {},
     "output_type": "execute_result"
    }
   ],
   "source": [
    "# How many stations are available in this dataset?\n",
    "session.query(func.count(Station.station)).all()"
   ]
  },
  {
   "cell_type": "code",
   "execution_count": 30,
   "metadata": {},
   "outputs": [
    {
     "data": {
      "text/plain": [
       "[('USC00519281', 2772),\n",
       " ('USC00519397', 2724),\n",
       " ('USC00513117', 2709),\n",
       " ('USC00519523', 2669),\n",
       " ('USC00516128', 2612),\n",
       " ('USC00514830', 2202),\n",
       " ('USC00511918', 1979),\n",
       " ('USC00517948', 1372),\n",
       " ('USC00518838', 511)]"
      ]
     },
     "execution_count": 30,
     "metadata": {},
     "output_type": "execute_result"
    }
   ],
   "source": [
    "# What are the most active stations?\n",
    "# List the stations and the counts in descending order.\n",
    "session.query(Measurement.station, func.count(Measurement.station)).\\\n",
    "group_by(Measurement.station).order_by(func.count(Measurement.station).desc()).all()"
   ]
  },
  {
   "cell_type": "code",
   "execution_count": 31,
   "metadata": {},
   "outputs": [
    {
     "data": {
      "text/plain": [
       "[(54.0, 85.0, 71.66378066378067)]"
      ]
     },
     "execution_count": 31,
     "metadata": {},
     "output_type": "execute_result"
    }
   ],
   "source": [
    "# Using the station id from the previous query, calculate the lowest temperature recorded, \n",
    "# highest temperature recorded, and average temperature most active station?\n",
    "session.query(func.min(Measurement.tobs), func.max(Measurement.tobs), func.avg(Measurement.tobs)).\\\n",
    "filter(Measurement.station == 'USC00519281').all()"
   ]
  },
  {
   "cell_type": "code",
   "execution_count": 38,
   "metadata": {},
   "outputs": [
    {
     "name": "stdout",
     "output_type": "stream",
     "text": [
      "     tobs\n",
      "0    77.0\n",
      "1    77.0\n",
      "2    80.0\n",
      "3    80.0\n",
      "4    75.0\n",
      "5    73.0\n",
      "6    78.0\n",
      "7    77.0\n",
      "8    78.0\n",
      "9    80.0\n",
      "10   80.0\n",
      "11   78.0\n",
      "12   78.0\n",
      "13   78.0\n",
      "14   73.0\n",
      "15   74.0\n",
      "16   80.0\n",
      "17   79.0\n",
      "18   77.0\n",
      "19   80.0\n",
      "20   76.0\n",
      "21   79.0\n",
      "22   75.0\n",
      "23   79.0\n",
      "24   78.0\n",
      "25   79.0\n",
      "26   78.0\n",
      "27   78.0\n",
      "28   76.0\n",
      "29   74.0\n",
      "30   77.0\n",
      "31   78.0\n",
      "32   79.0\n",
      "33   79.0\n",
      "34   77.0\n",
      "35   80.0\n",
      "36   78.0\n",
      "37   78.0\n",
      "38   78.0\n",
      "39   77.0\n",
      "40   79.0\n",
      "41   79.0\n",
      "42   79.0\n",
      "43   79.0\n",
      "44   75.0\n",
      "45   76.0\n",
      "46   73.0\n",
      "47   72.0\n",
      "48   71.0\n",
      "49   77.0\n",
      "50   79.0\n",
      "51   78.0\n",
      "52   79.0\n",
      "53   77.0\n",
      "54   79.0\n",
      "55   77.0\n",
      "56   78.0\n",
      "57   78.0\n",
      "58   78.0\n",
      "59   78.0\n",
      "60   77.0\n",
      "61   74.0\n",
      "62   75.0\n",
      "63   76.0\n",
      "64   73.0\n",
      "65   76.0\n",
      "66   74.0\n",
      "67   77.0\n",
      "68   76.0\n",
      "69   76.0\n",
      "70   74.0\n",
      "71   75.0\n",
      "72   75.0\n",
      "73   75.0\n",
      "74   75.0\n",
      "75   71.0\n",
      "76   63.0\n",
      "77   70.0\n",
      "78   68.0\n",
      "79   67.0\n",
      "80   77.0\n",
      "81   74.0\n",
      "82   77.0\n",
      "83   76.0\n",
      "84   76.0\n",
      "85   75.0\n",
      "86   76.0\n",
      "87   75.0\n",
      "88   73.0\n",
      "89   75.0\n",
      "90   73.0\n",
      "91   75.0\n",
      "92   74.0\n",
      "93   75.0\n",
      "94   74.0\n",
      "95   75.0\n",
      "96   73.0\n",
      "97   75.0\n",
      "98   73.0\n",
      "99   73.0\n",
      "100  74.0\n",
      "101  70.0\n",
      "102  72.0\n",
      "103  70.0\n",
      "104  67.0\n",
      "105  67.0\n",
      "106  69.0\n",
      "107  70.0\n",
      "108  68.0\n",
      "109  69.0\n",
      "110  69.0\n",
      "111  66.0\n",
      "112  65.0\n",
      "113  68.0\n",
      "114  62.0\n",
      "115  75.0\n",
      "116  70.0\n",
      "117  69.0\n",
      "118  76.0\n",
      "119  76.0\n",
      "120  74.0\n",
      "121  73.0\n",
      "122  71.0\n",
      "123  74.0\n",
      "124  74.0\n",
      "125  72.0\n",
      "126  71.0\n",
      "127  72.0\n",
      "128  74.0\n",
      "129  69.0\n",
      "130  67.0\n",
      "131  72.0\n",
      "132  70.0\n",
      "133  64.0\n",
      "134  63.0\n",
      "135  63.0\n",
      "136  62.0\n",
      "137  70.0\n",
      "138  70.0\n",
      "139  62.0\n",
      "140  62.0\n",
      "141  63.0\n",
      "142  65.0\n",
      "143  69.0\n",
      "144  77.0\n",
      "145  70.0\n",
      "146  74.0\n",
      "147  69.0\n",
      "148  72.0\n",
      "149  71.0\n",
      "150  69.0\n",
      "151  71.0\n",
      "152  71.0\n",
      "153  72.0\n",
      "154  72.0\n",
      "155  69.0\n",
      "156  70.0\n",
      "157  66.0\n",
      "158  65.0\n",
      "159  69.0\n",
      "160  68.0\n",
      "161  68.0\n",
      "162  68.0\n",
      "163  59.0\n",
      "164  60.0\n",
      "165  70.0\n",
      "166  73.0\n",
      "167  75.0\n",
      "168  64.0\n",
      "169  59.0\n",
      "170  59.0\n",
      "171  62.0\n",
      "172  68.0\n",
      "173  70.0\n",
      "174  73.0\n",
      "175  79.0\n",
      "176  75.0\n",
      "177  65.0\n",
      "178  70.0\n",
      "179  74.0\n",
      "180  70.0\n",
      "181  70.0\n",
      "182  71.0\n",
      "183  71.0\n",
      "184  71.0\n",
      "185  69.0\n",
      "186  61.0\n",
      "187  67.0\n",
      "188  65.0\n",
      "189  72.0\n",
      "190  71.0\n",
      "191  73.0\n",
      "192  72.0\n",
      "193  77.0\n",
      "194  73.0\n",
      "195  67.0\n",
      "196  62.0\n",
      "197  64.0\n",
      "198  67.0\n",
      "199  66.0\n",
      "200  81.0\n",
      "201  69.0\n",
      "202  66.0\n",
      "203  67.0\n",
      "204  69.0\n",
      "205  66.0\n",
      "206  68.0\n",
      "207  65.0\n",
      "208  74.0\n",
      "209  69.0\n",
      "210  72.0\n",
      "211  73.0\n",
      "212  72.0\n",
      "213  71.0\n",
      "214  76.0\n",
      "215  77.0\n",
      "216  76.0\n",
      "217  74.0\n",
      "218  68.0\n",
      "219  73.0\n",
      "220  71.0\n",
      "221  74.0\n",
      "222  75.0\n",
      "223  70.0\n",
      "224  67.0\n",
      "225  71.0\n",
      "226  67.0\n",
      "227  74.0\n",
      "228  77.0\n",
      "229  78.0\n",
      "230  67.0\n",
      "231  70.0\n",
      "232  69.0\n",
      "233  69.0\n",
      "234  74.0\n",
      "235  78.0\n",
      "236  71.0\n",
      "237  67.0\n",
      "238  68.0\n",
      "239  67.0\n",
      "240  76.0\n",
      "241  69.0\n",
      "242  72.0\n",
      "243  76.0\n",
      "244  68.0\n",
      "245  72.0\n",
      "246  74.0\n",
      "247  70.0\n",
      "248  67.0\n",
      "249  72.0\n",
      "250  60.0\n",
      "251  65.0\n",
      "252  75.0\n",
      "253  70.0\n",
      "254  75.0\n",
      "255  70.0\n",
      "256  79.0\n",
      "257  75.0\n",
      "258  70.0\n",
      "259  67.0\n",
      "260  74.0\n",
      "261  70.0\n",
      "262  75.0\n",
      "263  76.0\n",
      "264  77.0\n",
      "265  74.0\n",
      "266  74.0\n",
      "267  74.0\n",
      "268  69.0\n",
      "269  68.0\n",
      "270  76.0\n",
      "271  74.0\n",
      "272  71.0\n",
      "273  71.0\n",
      "274  74.0\n",
      "275  74.0\n",
      "276  74.0\n",
      "277  74.0\n",
      "278  80.0\n",
      "279  74.0\n",
      "280  72.0\n",
      "281  75.0\n",
      "282  80.0\n",
      "283  76.0\n",
      "284  76.0\n",
      "285  77.0\n",
      "286  75.0\n",
      "287  75.0\n",
      "288  75.0\n",
      "289  75.0\n",
      "290  72.0\n",
      "291  74.0\n",
      "292  74.0\n",
      "293  74.0\n",
      "294  76.0\n",
      "295  74.0\n",
      "296  75.0\n",
      "297  73.0\n",
      "298  79.0\n",
      "299  75.0\n",
      "300  72.0\n",
      "301  72.0\n",
      "302  74.0\n",
      "303  72.0\n",
      "304  72.0\n",
      "305  77.0\n",
      "306  71.0\n",
      "307  73.0\n",
      "308  76.0\n",
      "309  77.0\n",
      "310  76.0\n",
      "311  76.0\n",
      "312  79.0\n",
      "313  81.0\n",
      "314  76.0\n",
      "315  78.0\n",
      "316  77.0\n",
      "317  74.0\n",
      "318  75.0\n",
      "319  78.0\n",
      "320  78.0\n",
      "321  69.0\n",
      "322  72.0\n",
      "323  74.0\n",
      "324  74.0\n",
      "325  76.0\n",
      "326  80.0\n",
      "327  80.0\n",
      "328  76.0\n",
      "329  76.0\n",
      "330  76.0\n",
      "331  77.0\n",
      "332  77.0\n",
      "333  77.0\n",
      "334  82.0\n",
      "335  75.0\n",
      "336  77.0\n",
      "337  75.0\n",
      "338  76.0\n",
      "339  81.0\n",
      "340  82.0\n",
      "341  81.0\n",
      "342  76.0\n",
      "343  77.0\n",
      "344  82.0\n",
      "345  83.0\n",
      "346  77.0\n",
      "347  77.0\n",
      "348  77.0\n",
      "349  76.0\n",
      "350  76.0\n",
      "351  79.0\n"
     ]
    }
   ],
   "source": [
    "# Choose the station with the highest number of temperature observations.\n",
    "# Query the last 12 months of temperature observation data for this station and plot the results as a histogram\n",
    "results = session.query(Measurement.tobs).\\\n",
    "filter(Measurement.station == 'USC00519281').\\\n",
    "filter(Measurement.date >= prev_year).all()\n",
    "\n",
    "df = pd.DataFrame(results, columns=['tobs'])\n",
    "\n",
    "df.plot.his"
   ]
  },
  {
   "cell_type": "code",
   "execution_count": null,
   "metadata": {},
   "outputs": [],
   "source": [
    "# Write a function called `calc_temps` that will accept start date and end date in the format '%Y-%m-%d' \n",
    "# and return the minimum, average, and maximum temperatures for that range of dates\n"
   ]
  },
  {
   "cell_type": "markdown",
   "metadata": {},
   "source": [
    "# Challenge"
   ]
  },
  {
   "cell_type": "code",
   "execution_count": null,
   "metadata": {},
   "outputs": [],
   "source": []
  }
 ],
 "metadata": {
  "kernelspec": {
   "display_name": "Python 3",
   "language": "python",
   "name": "python3"
  },
  "language_info": {
   "codemirror_mode": {
    "name": "ipython",
    "version": 3
   },
   "file_extension": ".py",
   "mimetype": "text/x-python",
   "name": "python",
   "nbconvert_exporter": "python",
   "pygments_lexer": "ipython3",
   "version": "3.7.6"
  }
 },
 "nbformat": 4,
 "nbformat_minor": 2
}
